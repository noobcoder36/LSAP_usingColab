{
  "nbformat": 4,
  "nbformat_minor": 0,
  "metadata": {
    "colab": {
      "name": "CNN4_test.ipynb",
      "provenance": [],
      "authorship_tag": "ABX9TyNdRQIqQJ+QGFZouU9MS68P",
      "include_colab_link": true
    },
    "kernelspec": {
      "name": "python3",
      "display_name": "Python 3"
    }
  },
  "cells": [
    {
      "cell_type": "markdown",
      "metadata": {
        "id": "view-in-github",
        "colab_type": "text"
      },
      "source": [
        "<a href=\"https://colab.research.google.com/github/noobcoder36/LSAP_usingColab/blob/main/CNN4_test.ipynb\" target=\"_parent\"><img src=\"https://colab.research.google.com/assets/colab-badge.svg\" alt=\"Open In Colab\"/></a>"
      ]
    },
    {
      "cell_type": "markdown",
      "metadata": {
        "id": "yfcnRLuidBYa"
      },
      "source": [
        "\n",
        "#Testing Trained Model with Test Data Set and Applying Greedy Collision\n",
        "\n",
        "\n",
        "---\n",
        "\n"
      ]
    },
    {
      "cell_type": "markdown",
      "metadata": {
        "id": "cPUnEyljdXp-"
      },
      "source": [
        "**Importing Libraries**"
      ]
    },
    {
      "cell_type": "code",
      "metadata": {
        "id": "Wqp0-hirftRt"
      },
      "source": [
        "import numpy as np\n",
        "# from scipy.optimize import linear_sum_assignment\n",
        "import tensorflow as tf \n",
        "from tensorflow.keras import datasets, layers, models\n",
        "\n"
      ],
      "execution_count": 1,
      "outputs": []
    },
    {
      "cell_type": "markdown",
      "metadata": {
        "id": "INK0-vS0dbKG"
      },
      "source": [
        "**Connecting Drive to Access Trained Model and Dataset**"
      ]
    },
    {
      "cell_type": "code",
      "metadata": {
        "id": "bn4wPNhngD3U",
        "colab": {
          "base_uri": "https://localhost:8080/"
        },
        "outputId": "a506d539-ac07-4f37-c11c-8764c62d1657"
      },
      "source": [
        "# Accessing Drive\n",
        "from google.colab import drive \n",
        "drive.mount('/content/drive', force_remount=True)\n",
        "\n",
        "import os \n",
        "\n",
        "# Set your working directory to a folder in your Google Drive. This way, if your notebook times out,\n",
        "# your files will be saved in your Google Drive!\n",
        "\n",
        "# the base Google Drive directory\n",
        "root_dir = \"/content/drive/My Drive/\"\n",
        "\n",
        "# choose where you want your project files to be saved\n",
        "project_folder = \"LSAP/CNN4/\"\n",
        "\n",
        "def create_and_set_working_directory(project_folder):\n",
        "  # check if your project folder exists. if not, it will be created.\n",
        "  if os.path.isdir(root_dir + project_folder) == False:\n",
        "    os.mkdir(root_dir + project_folder)\n",
        "    print(root_dir + project_folder + ' did not exist but was created.')\n",
        "\n",
        "  # change the OS to use your project folder as the working directory\n",
        "  os.chdir(root_dir + project_folder)\n",
        "\n",
        "  # # create a test file to make sure it shows up in the right place\n",
        "  # !touch 'new_file_in_working_directory.txt'\n",
        "  # print('\\nYour working directory was changed to ' + root_dir + project_folder + \\\n",
        "  #       \"\\n\\nAn empty text file was created there. You can also run !pwd to confirm the current working directory.\" )\n",
        "\n",
        "create_and_set_working_directory(project_folder)"
      ],
      "execution_count": 2,
      "outputs": [
        {
          "output_type": "stream",
          "text": [
            "Mounted at /content/drive\n"
          ],
          "name": "stdout"
        }
      ]
    },
    {
      "cell_type": "markdown",
      "metadata": {
        "id": "sGIwXk-wdi9L"
      },
      "source": [
        "**Loading Dataset**"
      ]
    },
    {
      "cell_type": "code",
      "metadata": {
        "id": "JoicN15Jca2J"
      },
      "source": [
        "# Reloding Data\n",
        "with np.load('/content/drive/My Drive/LSAP/data_f.npz') as data:\n",
        "  C = data['C']\n",
        "  C_test = data['C_test']\n",
        "  X_t1=data['X_t1']\n",
        "  X_t2=data['X_t2']\n",
        "  X_t3=data['X_t3']\n",
        "  X_t4=data['X_t4']\n",
        "  X_1=data['X_1']\n",
        "  X_2=data['X_2']\n",
        "  X_3=data['X_3']\n",
        "  X_4=data['X_4']\n",
        "  X_test = data['X_test']\n",
        "\n",
        "n    = 4      # No. of Jobs and People \n",
        "m    = 45000   # No, of training samples \n",
        "test = 5000   # No, of test samples"
      ],
      "execution_count": 3,
      "outputs": []
    },
    {
      "cell_type": "markdown",
      "metadata": {
        "id": "DnjAbm6Mdn1f"
      },
      "source": [
        "**Reshaping Dataset to feed into Model**"
      ]
    },
    {
      "cell_type": "code",
      "metadata": {
        "id": "YUmkbQeJg1HR"
      },
      "source": [
        "BATCH_SIZE = 1024\n",
        "SHUFFLE_BUFFER_SIZE = 256\n",
        "\n",
        "C = np.repeat(C[..., np.newaxis], 1, -1)\n",
        "C_test = np.repeat(C_test[..., np.newaxis], 1, -1)\n",
        "\n",
        "test_dataset1 = tf.data.Dataset.from_tensor_slices((C_test/100, X_t1))\n",
        "test_dataset1 = test_dataset1.batch(BATCH_SIZE)\n",
        "\n",
        "test_dataset2 = tf.data.Dataset.from_tensor_slices((C_test/100, X_t2))\n",
        "test_dataset2 = test_dataset2.batch(BATCH_SIZE)\n",
        "\n",
        "test_dataset3 = tf.data.Dataset.from_tensor_slices((C_test/100, X_t3))\n",
        "test_dataset3 = test_dataset3.batch(BATCH_SIZE)\n",
        "\n",
        "test_dataset4 = tf.data.Dataset.from_tensor_slices((C_test/100, X_t4))\n",
        "test_dataset4 = test_dataset4.batch(BATCH_SIZE)\n"
      ],
      "execution_count": 4,
      "outputs": []
    },
    {
      "cell_type": "markdown",
      "metadata": {
        "id": "fSF7Eyq6dsrx"
      },
      "source": [
        "**Loading Trained Model**"
      ]
    },
    {
      "cell_type": "code",
      "metadata": {
        "id": "Xge80q8mgMha",
        "colab": {
          "base_uri": "https://localhost:8080/"
        },
        "outputId": "4018ac8c-3aa6-4b34-e3c6-e13aaab36c44"
      },
      "source": [
        "# Saved Changes on Dec 1 \n",
        "# Things to clarified; Training multpile models on the same graph and session and loading in the same graph and session\n",
        "# Will this lead to wrong results\n",
        "# To be done\n",
        "# Interpret ouputs [[g1 g2 g3 g4]] 5000*4*4 and Get Xj and Apply Greedy Collision Rule{if Cij1 < Cij2: assign job i to person j1 } and Get the Inferred Final Ouput\n",
        "# Now get accuracy of the results with corresponding Hungarain Algo's Output\n",
        "# Saving Model will find its use when implemented on PC than on colab. As colab runs as if everything is on same script.\n",
        "\n",
        "#1\n",
        "n_model1 = tf.keras.models.load_model('saved_model/model1')\n",
        "\n",
        "# Check its architecture\n",
        "n_model1.summary()\n",
        "g1= n_model1.predict(test_dataset1)\n",
        "\n",
        "#2\n",
        "n_model2 = tf.keras.models.load_model('saved_model/model2')\n",
        "\n",
        "# Check its architecture\n",
        "n_model2.summary()\n",
        "g2= n_model2.predict(test_dataset2)\n",
        "\n",
        "#3\n",
        "n_model3 = tf.keras.models.load_model('saved_model/model3')\n",
        "\n",
        "# Check its architecture\n",
        "n_model3.summary()\n",
        "g3= n_model3.predict(test_dataset3)\n",
        "\n",
        "\n",
        "#4\n",
        "n_model4 = tf.keras.models.load_model('saved_model/model4')\n",
        "# Check its architecture\n",
        "n_model4.summary()\n",
        "g4 = n_model4.predict(test_dataset4)\n",
        "g41= n_model4.evaluate(test_dataset4)\n",
        "n_model1.evaluate(test_dataset1)\n",
        "n_model2.evaluate(test_dataset2)\n",
        "n_model3.evaluate(test_dataset3)\n",
        "\n",
        "print('Predict:{}'.format(g4[0]))\n",
        "print('Evaluate:{}'.format(g41[0]))\n",
        "print(g41)\n",
        "\n",
        "print(g1.shape)\n",
        "print(g2.shape)\n",
        "print(g3.shape)\n",
        "print(g1[0])\n",
        "print(g2)"
      ],
      "execution_count": 5,
      "outputs": [
        {
          "output_type": "stream",
          "text": [
            "Model: \"sequential\"\n",
            "_________________________________________________________________\n",
            "Layer (type)                 Output Shape              Param #   \n",
            "=================================================================\n",
            "conv2d (Conv2D)              (None, 4, 4, 2)           4         \n",
            "_________________________________________________________________\n",
            "conv2d_1 (Conv2D)            (None, 4, 4, 4)           12        \n",
            "_________________________________________________________________\n",
            "flatten (Flatten)            (None, 64)                0         \n",
            "_________________________________________________________________\n",
            "dense (Dense)                (None, 256)               16640     \n",
            "_________________________________________________________________\n",
            "dense_1 (Dense)              (None, 4)                 1028      \n",
            "=================================================================\n",
            "Total params: 17,684\n",
            "Trainable params: 17,684\n",
            "Non-trainable params: 0\n",
            "_________________________________________________________________\n",
            "Model: \"sequential_1\"\n",
            "_________________________________________________________________\n",
            "Layer (type)                 Output Shape              Param #   \n",
            "=================================================================\n",
            "conv2d_2 (Conv2D)            (None, 4, 4, 2)           4         \n",
            "_________________________________________________________________\n",
            "conv2d_3 (Conv2D)            (None, 4, 4, 4)           12        \n",
            "_________________________________________________________________\n",
            "flatten_1 (Flatten)          (None, 64)                0         \n",
            "_________________________________________________________________\n",
            "dense_2 (Dense)              (None, 256)               16640     \n",
            "_________________________________________________________________\n",
            "dense_3 (Dense)              (None, 4)                 1028      \n",
            "=================================================================\n",
            "Total params: 17,684\n",
            "Trainable params: 17,684\n",
            "Non-trainable params: 0\n",
            "_________________________________________________________________\n",
            "Model: \"sequential_2\"\n",
            "_________________________________________________________________\n",
            "Layer (type)                 Output Shape              Param #   \n",
            "=================================================================\n",
            "conv2d_4 (Conv2D)            (None, 4, 4, 2)           4         \n",
            "_________________________________________________________________\n",
            "conv2d_5 (Conv2D)            (None, 4, 4, 4)           12        \n",
            "_________________________________________________________________\n",
            "flatten_2 (Flatten)          (None, 64)                0         \n",
            "_________________________________________________________________\n",
            "dense_4 (Dense)              (None, 256)               16640     \n",
            "_________________________________________________________________\n",
            "dense_5 (Dense)              (None, 4)                 1028      \n",
            "=================================================================\n",
            "Total params: 17,684\n",
            "Trainable params: 17,684\n",
            "Non-trainable params: 0\n",
            "_________________________________________________________________\n",
            "Model: \"sequential_4\"\n",
            "_________________________________________________________________\n",
            "Layer (type)                 Output Shape              Param #   \n",
            "=================================================================\n",
            "conv2d_8 (Conv2D)            (None, 4, 4, 2)           4         \n",
            "_________________________________________________________________\n",
            "conv2d_9 (Conv2D)            (None, 4, 4, 4)           12        \n",
            "_________________________________________________________________\n",
            "flatten_4 (Flatten)          (None, 64)                0         \n",
            "_________________________________________________________________\n",
            "dense_8 (Dense)              (None, 256)               16640     \n",
            "_________________________________________________________________\n",
            "dense_9 (Dense)              (None, 4)                 1028      \n",
            "=================================================================\n",
            "Total params: 17,684\n",
            "Trainable params: 17,684\n",
            "Non-trainable params: 0\n",
            "_________________________________________________________________\n",
            "5/5 [==============================] - 0s 4ms/step - loss: 0.2422 - accuracy: 0.9130\n",
            "5/5 [==============================] - 0s 4ms/step - loss: 0.2426 - accuracy: 0.9160\n",
            "5/5 [==============================] - 0s 3ms/step - loss: 0.2732 - accuracy: 0.9124\n",
            "5/5 [==============================] - 0s 4ms/step - loss: 0.2479 - accuracy: 0.9110\n",
            "Predict:[3.41823368e-27 1.60935219e-12 9.87215519e-01 1.27844885e-02]\n",
            "Evaluate:0.24220027029514313\n",
            "[0.24220027029514313, 0.9129999876022339]\n",
            "(5000, 4)\n",
            "(5000, 4)\n",
            "(5000, 4)\n",
            "[8.2939977e-30 1.0000000e+00 2.7178872e-08 6.2566380e-19]\n",
            "[[1.3238196e-01 5.3292707e-11 1.3245024e-11 8.6761802e-01]\n",
            " [9.7425595e-07 9.9999905e-01 7.0817507e-10 1.9750331e-26]\n",
            " [9.4013160e-01 6.1739325e-03 4.8709254e-08 5.3694412e-02]\n",
            " ...\n",
            " [4.0440440e-02 3.1574247e-20 2.9478232e-17 9.5955956e-01]\n",
            " [6.0440194e-05 1.7543404e-10 9.9993753e-01 2.0678165e-06]\n",
            " [6.6261917e-01 5.5500794e-02 4.7803968e-03 2.7709964e-01]]\n"
          ],
          "name": "stdout"
        }
      ]
    },
    {
      "cell_type": "markdown",
      "metadata": {
        "id": "zK5zIMFmdw6j"
      },
      "source": [
        "**Applying Greedy Collision Rule**"
      ]
    },
    {
      "cell_type": "code",
      "metadata": {
        "id": "x_KnzI3zgY38",
        "colab": {
          "base_uri": "https://localhost:8080/"
        },
        "outputId": "2a91585e-3abe-4109-92f3-5015cac79bac"
      },
      "source": [
        "n=4\n",
        "test = 5000\n",
        "X_cap = np.zeros((test,n,n),dtype=int)\n",
        "job = np.zeros((test,n),dtype=int)\n",
        "\n",
        "p= [0, 1, 2, 3] # Persons {0..j}\n",
        "\n",
        "count = np.zeros((test,1),dtype=int)\n",
        "\n",
        "for s in range(test):\n",
        "    job[s,p[0]] = np.argmax(g1[s])\n",
        "    job[s,p[1]] = np.argmax(g2[s])\n",
        "    job[s,p[2]] = np.argmax(g3[s])\n",
        "    job[s,p[3]] = np.argmax(g4[s])\n",
        "\n",
        "for s in range(test):\n",
        "  for i in range(n-1):\n",
        "    for j in range(i+1,n):\n",
        "      if (job[s,p[i]]==job[s,p[j]]):\n",
        "        count[s]+=1\n",
        "\n",
        "k=0\n",
        "sum1=0\n",
        "sum2=0\n",
        "sum3=0\n",
        "sum4=0\n",
        "sum5=0\n",
        "sum6=0\n",
        "\n",
        "for s in range(test):\n",
        "  if(count[s]==0):\n",
        "    k+=1\n",
        "  if(count[s]==1):\n",
        "    sum1+=1\n",
        "  if(count[s]==2):\n",
        "    sum2+=1\n",
        "  if(count[s]==3):\n",
        "    sum3+=1\n",
        "  if(count[s]==4):\n",
        "    sum4+=1\n",
        "  if(count[s]==5):\n",
        "    sum5+=1\n",
        "  if(count[s]==6):\n",
        "    sum6+=1\n",
        "\n",
        "print('Collsion Count--> 0: {}| 1: {} | 2: {} | 3: {} | 4: {} | 5: {} | 6: {}'.format(k,sum1,sum2,sum3,sum4,sum5,sum6))\n",
        "\n",
        "for s in range(test):\n",
        "  for i in range(n):\n",
        "    X_cap[s,job[s,p[i]],p[i]] = 1\n",
        "\n",
        "print('Before Greedy:\\n {}'.format(X_cap[0]))"
      ],
      "execution_count": 6,
      "outputs": [
        {
          "output_type": "stream",
          "text": [
            "Collsion Count--> 0: 3794| 1: 1198 | 2: 7 | 3: 1 | 4: 0 | 5: 0 | 6: 0\n",
            "Before Greedy:\n",
            " [[0 0 0 0]\n",
            " [1 0 0 0]\n",
            " [0 0 0 1]\n",
            " [0 1 1 0]]\n"
          ],
          "name": "stdout"
        }
      ]
    },
    {
      "cell_type": "code",
      "metadata": {
        "id": "Wj3ldQ-qghad",
        "colab": {
          "base_uri": "https://localhost:8080/"
        },
        "outputId": "288f4f48-e503-4630-8925-9a74c5deff94"
      },
      "source": [
        "r = np.zeros((test,1),dtype=int)\n",
        "for s in range(test):\n",
        "  if count[s]==1:\n",
        "\n",
        "    for ind1 in range(n):\n",
        "      r_s = X_cap[s,ind1,:] == np.zeros((n,),dtype=int)\n",
        "      if (r_s.all()):\n",
        "        r[s]=ind1\n",
        "  else: \n",
        "    r[s] = -1\n",
        "\n",
        "print('Before:\\n {}'.format(X_cap[0:10]))\n",
        "# print('Rows----------')\n",
        "# print(r[0:10])"
      ],
      "execution_count": 7,
      "outputs": [
        {
          "output_type": "stream",
          "text": [
            "Before:\n",
            " [[[0 0 0 0]\n",
            "  [1 0 0 0]\n",
            "  [0 0 0 1]\n",
            "  [0 1 1 0]]\n",
            "\n",
            " [[1 0 0 0]\n",
            "  [0 1 0 0]\n",
            "  [0 0 0 1]\n",
            "  [0 0 1 0]]\n",
            "\n",
            " [[0 1 0 0]\n",
            "  [0 0 0 1]\n",
            "  [0 0 1 0]\n",
            "  [1 0 0 0]]\n",
            "\n",
            " [[0 0 0 0]\n",
            "  [1 0 0 0]\n",
            "  [0 0 1 1]\n",
            "  [0 1 0 0]]\n",
            "\n",
            " [[1 0 0 0]\n",
            "  [0 1 0 0]\n",
            "  [0 0 1 0]\n",
            "  [0 0 0 1]]\n",
            "\n",
            " [[0 0 0 1]\n",
            "  [0 1 0 0]\n",
            "  [1 0 0 0]\n",
            "  [0 0 1 0]]\n",
            "\n",
            " [[0 0 1 0]\n",
            "  [0 0 0 1]\n",
            "  [0 1 0 0]\n",
            "  [1 0 0 0]]\n",
            "\n",
            " [[0 0 0 0]\n",
            "  [0 0 0 1]\n",
            "  [1 1 0 0]\n",
            "  [0 0 1 0]]\n",
            "\n",
            " [[0 1 0 0]\n",
            "  [1 0 0 0]\n",
            "  [0 0 0 1]\n",
            "  [0 0 1 0]]\n",
            "\n",
            " [[0 1 0 0]\n",
            "  [0 0 1 0]\n",
            "  [1 0 0 1]\n",
            "  [0 0 0 0]]]\n"
          ],
          "name": "stdout"
        }
      ]
    },
    {
      "cell_type": "code",
      "metadata": {
        "id": "4ctSsRn0gl2S",
        "colab": {
          "base_uri": "https://localhost:8080/"
        },
        "outputId": "727fd747-adc6-4e29-94d5-6900a18ba818"
      },
      "source": [
        "print(count[0:10])\n",
        "print('Zero row {}'.format(r[0]))\n",
        "print('Before Greedy:\\n {}'.format(X_cap[0]))\n",
        "for s in range(test):\n",
        "  if count[s]==1:\n",
        "    for i in range(n-1):\n",
        "      for j in range(i+1,n):\n",
        "        #Greedy Collison Rule  \n",
        "        if (job[s,p[i]]==job[s,p[j]]):\n",
        "            if (C_test[s,job[s,p[i]],p[i]] + C_test[s,r[s],p[j]] < C_test[s,job[s,p[j]],p[j]] + C_test[s,r[s],p[i]]):\n",
        "                X_cap[s,job[s,p[i]],p[i]] = 1\n",
        "                X_cap[s,job[s,p[j]],p[j]] = 0\n",
        "                X_cap[s,r[s],p[j]]        = 1\n",
        "                X_cap[s,r[s],p[i]]        = 0\n",
        "            else:\n",
        "                X_cap[s,job[s,p[j]],p[j]] = 1\n",
        "                X_cap[s,job[s,p[i]],p[i]] = 0\n",
        "                X_cap[s,r[s],p[i]]        = 1\n",
        "                X_cap[s,r[s],p[j]]        = 0\n",
        "\n",
        "print('After Greedy:\\n {}'.format(X_cap[0]))\n",
        "\n",
        "# Testing Accuracy \n",
        "# error = 0\n",
        "# for s in range(test):\n",
        "#   comparison = X_cap[s]  == X_test[s]\n",
        "#   ind = comparison.all()\n",
        "#   if not ind:\n",
        "#     error+=1\n",
        "err = np.zeros((n,1),dtype=int)\n",
        "# ind = np.zeros((test,1),dtype=bool)\n",
        "accuracy = np.ones((n,1),dtype=float)\n",
        "for s in range(test):\n",
        "  for i in range(n):\n",
        "    comparison = X_cap[s,:,i]  == X_test[s,:,i]\n",
        "    ind = comparison.all()\n",
        "    if not ind:\n",
        "      err[i]+=1\n",
        "\n",
        "for i in range(n):\n",
        "  accuracy[i] = (test-err[i])/test  \n",
        "  \n",
        "print('Error:\\n{}'.format(err))\n",
        "print('Accuracy:\\n{}'.format(accuracy))\n",
        "print('Accuracy Avg:{}'.format(sum(accuracy)/len(accuracy)))\n",
        "print('Jobs for each person:{}'.format(job[0]))\n",
        "print('Original Sol:\\n{}'.format(X_test[0]))\n",
        "print('Cost matrix 0th:\\n{}'.format(C_test[0]))\n"
      ],
      "execution_count": 8,
      "outputs": [
        {
          "output_type": "stream",
          "text": [
            "[[1]\n",
            " [0]\n",
            " [0]\n",
            " [1]\n",
            " [0]\n",
            " [0]\n",
            " [0]\n",
            " [1]\n",
            " [0]\n",
            " [1]]\n",
            "Zero row [0]\n",
            "Before Greedy:\n",
            " [[0 0 0 0]\n",
            " [1 0 0 0]\n",
            " [0 0 0 1]\n",
            " [0 1 1 0]]\n",
            "After Greedy:\n",
            " [[0 1 0 0]\n",
            " [1 0 0 0]\n",
            " [0 0 0 1]\n",
            " [0 0 1 0]]\n",
            "Error:\n",
            "[[237]\n",
            " [246]\n",
            " [245]\n",
            " [238]]\n",
            "Accuracy:\n",
            "[[0.9526]\n",
            " [0.9508]\n",
            " [0.951 ]\n",
            " [0.9524]]\n",
            "Accuracy Avg:[0.9517]\n",
            "Jobs for each person:[1 3 3 2]\n",
            "Original Sol:\n",
            "[[0 1 0 0]\n",
            " [1 0 0 0]\n",
            " [0 0 0 1]\n",
            " [0 0 1 0]]\n",
            "Cost matrix 0th:\n",
            "[[[81]\n",
            "  [ 2]\n",
            "  [14]\n",
            "  [99]]\n",
            "\n",
            " [[ 4]\n",
            "  [48]\n",
            "  [74]\n",
            "  [58]]\n",
            "\n",
            " [[34]\n",
            "  [77]\n",
            "  [59]\n",
            "  [34]]\n",
            "\n",
            " [[97]\n",
            "  [59]\n",
            "  [70]\n",
            "  [50]]]\n"
          ],
          "name": "stdout"
        }
      ]
    },
    {
      "cell_type": "markdown",
      "metadata": {
        "id": "NbtOSKKvgoC3"
      },
      "source": [
        "Time taken for CNN\n"
      ]
    },
    {
      "cell_type": "code",
      "metadata": {
        "colab": {
          "base_uri": "https://localhost:8080/"
        },
        "id": "Pe1HXqVfd7lZ",
        "outputId": "310b358c-7cb3-4a87-c571-9ced09ea9351"
      },
      "source": [
        "import time\n",
        "# starting time\n",
        "start = time.time()\n",
        "X_cap = np.zeros((test,n,n),dtype=int)\n",
        "job = np.zeros((test,n),dtype=int)\n",
        "p= [0, 1, 2, 3] # Persons {0..j}\n",
        "count = np.zeros((test,1),dtype=int)\n",
        "for s in range(test):\n",
        "    job[s,p[0]] = np.argmax(g1[s])\n",
        "    job[s,p[1]] = np.argmax(g2[s])\n",
        "    job[s,p[2]] = np.argmax(g3[s])\n",
        "    job[s,p[3]] = np.argmax(g4[s])\n",
        "for s in range(test):\n",
        "  for i in range(n-1):\n",
        "    for j in range(i+1,n):\n",
        "      if (job[s,p[i]]==job[s,p[j]]):\n",
        "        count[s]+=1\n",
        "for s in range(test):\n",
        "  for i in range(n):\n",
        "    X_cap[s,job[s,p[i]],p[i]] = 1\n",
        "for s in range(test):\n",
        "  if count[s]==1:\n",
        "    for i in range(n-1):\n",
        "      for j in range(i+1,n):\n",
        "        #Greedy Collison Rule  \n",
        "        if (job[s,p[i]]==job[s,p[j]]):\n",
        "            if (C_test[s,job[s,p[i]],p[i]] + C_test[s,r[s],p[j]] < C_test[s,job[s,p[j]],p[j]] + C_test[s,r[s],p[i]]):\n",
        "                X_cap[s,job[s,p[i]],p[i]] = 1\n",
        "                X_cap[s,job[s,p[j]],p[j]] = 0\n",
        "                X_cap[s,r[s],p[j]]        = 1\n",
        "                X_cap[s,r[s],p[i]]        = 0\n",
        "            else:\n",
        "                X_cap[s,job[s,p[j]],p[j]] = 1\n",
        "                X_cap[s,job[s,p[i]],p[i]] = 0\n",
        "                X_cap[s,r[s],p[i]]        = 1\n",
        "                X_cap[s,r[s],p[j]]        = 0\n",
        "end = time.time()\n",
        "# total time taken\n",
        "print(f\"Runtime of the program is {end - start}\")"
      ],
      "execution_count": 9,
      "outputs": [
        {
          "output_type": "stream",
          "text": [
            "Runtime of the program is 0.11413025856018066\n"
          ],
          "name": "stdout"
        }
      ]
    },
    {
      "cell_type": "code",
      "metadata": {
        "colab": {
          "base_uri": "https://localhost:8080/"
        },
        "id": "e6pv8FXFpY5N",
        "outputId": "bd135a92-6f31-4bce-b6e8-f8969a35ea8c"
      },
      "source": [
        "import time\n",
        "# starting time\n",
        "start = time.time()\n",
        "g1= n_model1.predict(test_dataset1)\n",
        "g2= n_model2.predict(test_dataset2)\n",
        "g3= n_model3.predict(test_dataset3)\n",
        "g4 = n_model4.predict(test_dataset4)\n",
        "end = time.time()\n",
        "# total time taken\n",
        "print(f\"Runtime of the program is {end - start}\")"
      ],
      "execution_count": 10,
      "outputs": [
        {
          "output_type": "stream",
          "text": [
            "Runtime of the program is 0.09180402755737305\n"
          ],
          "name": "stdout"
        }
      ]
    },
    {
      "cell_type": "code",
      "metadata": {
        "colab": {
          "base_uri": "https://localhost:8080/"
        },
        "id": "Ny7Tv78Z8p-D",
        "outputId": "2bbbe58a-f1c9-42b3-9f6d-6b8e537772cc"
      },
      "source": [
        "import time\n",
        "# starting time\n",
        "start = time.time()\n",
        "g1= n_model1.predict(test_dataset1)\n",
        "end = time.time()\n",
        "# total time taken\n",
        "print(f\"Runtime of the program is {end - start}\")"
      ],
      "execution_count": 16,
      "outputs": [
        {
          "output_type": "stream",
          "text": [
            "Runtime of the program is 0.03426003456115723\n"
          ],
          "name": "stdout"
        }
      ]
    }
  ]
}