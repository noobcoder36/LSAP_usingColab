{
  "nbformat": 4,
  "nbformat_minor": 0,
  "metadata": {
    "colab": {
      "name": "FNN4_test.ipynb",
      "provenance": [],
      "collapsed_sections": [],
      "include_colab_link": true
    },
    "kernelspec": {
      "display_name": "Python 3",
      "name": "python3"
    }
  },
  "cells": [
    {
      "cell_type": "markdown",
      "metadata": {
        "id": "view-in-github",
        "colab_type": "text"
      },
      "source": [
        "<a href=\"https://colab.research.google.com/github/noobcoder36/LSAP_usingColab/blob/main/FNN4_test.ipynb\" target=\"_parent\"><img src=\"https://colab.research.google.com/assets/colab-badge.svg\" alt=\"Open In Colab\"/></a>"
      ]
    },
    {
      "cell_type": "markdown",
      "metadata": {
        "id": "gy8Pqj295Obv"
      },
      "source": [
        "# Reload Saved Models and Test Accuracy for 5000 samples [FNN]"
      ]
    },
    {
      "cell_type": "code",
      "metadata": {
        "id": "apa36n6TsYwG"
      },
      "source": [
        "import numpy as np\n",
        "from scipy.optimize import linear_sum_assignment\n",
        "import tensorflow as tf \n",
        "from tensorflow import keras"
      ],
      "execution_count": null,
      "outputs": []
    },
    {
      "cell_type": "code",
      "metadata": {
        "colab": {
          "base_uri": "https://localhost:8080/"
        },
        "id": "z6TDuO1PkWTb",
        "outputId": "f58b94f3-f6ae-4cb1-8686-c3b92c6f77ae"
      },
      "source": [
        "from google.colab import drive \n",
        "drive.mount('/content/drive', force_remount=True)\n",
        "\n",
        "import os \n",
        "\n",
        "# Set your working directory to a folder in your Google Drive. This way, if your notebook times out,\n",
        "# your files will be saved in your Google Drive!\n",
        "\n",
        "# the base Google Drive directory\n",
        "root_dir = \"/content/drive/My Drive/\"\n",
        "\n",
        "# choose where you want your project files to be saved\n",
        "project_folder = \"LSAP/FNN/\"\n",
        "\n",
        "def create_and_set_working_directory(project_folder):\n",
        "  # check if your project folder exists. if not, it will be created.\n",
        "  if os.path.isdir(root_dir + project_folder) == False:\n",
        "    os.mkdir(root_dir + project_folder)\n",
        "    print(root_dir + project_folder + ' did not exist but was created.')\n",
        "\n",
        "  # change the OS to use your project folder as the working directory\n",
        "  os.chdir(root_dir + project_folder)\n",
        "\n",
        "  # # create a test file to make sure it shows up in the right place\n",
        "  # !touch 'new_file_in_working_directory.txt'\n",
        "  # print('\\nYour working directory was changed to ' + root_dir + project_folder + \\\n",
        "  #       \"\\n\\nAn empty text file was created there. You can also run !pwd to confirm the current working directory.\" )\n",
        "\n",
        "create_and_set_working_directory(project_folder)"
      ],
      "execution_count": null,
      "outputs": [
        {
          "output_type": "stream",
          "text": [
            "Mounted at /content/drive\n"
          ],
          "name": "stdout"
        }
      ]
    },
    {
      "cell_type": "code",
      "metadata": {
        "id": "hfaxLEiVrkmD"
      },
      "source": [
        "# # Reload Saved Data Set inorder to avoid retraining model\n",
        "# from google.colab import files\n",
        "# uploaded = files.upload()\n",
        "\n",
        "with np.load('/content/drive/My Drive/LSAP/data_f.npz') as data:\n",
        "  C = data['C']\n",
        "  C_test = data['C_test']\n",
        "  X_t1=data['X_t1']\n",
        "  X_t2=data['X_t2']\n",
        "  X_t3=data['X_t3']\n",
        "  X_t4=data['X_t4']\n",
        "  X_1=data['X_1']\n",
        "  X_2=data['X_2']\n",
        "  X_3=data['X_3']\n",
        "  X_4=data['X_4']\n",
        "  X_test = data['X_test']"
      ],
      "execution_count": null,
      "outputs": []
    },
    {
      "cell_type": "code",
      "metadata": {
        "id": "yivPjZuQoTYu"
      },
      "source": [
        "\n",
        "BATCH_SIZE = 1024\n",
        "SHUFFLE_BUFFER_SIZE = 256\n",
        "\n",
        "test_dataset1 = tf.data.Dataset.from_tensor_slices((C_test/100, X_t1))\n",
        "test_dataset1 = test_dataset1.batch(BATCH_SIZE)\n",
        "\n",
        "test_dataset2 = tf.data.Dataset.from_tensor_slices((C_test/100, X_t2))\n",
        "test_dataset2 = test_dataset2.batch(BATCH_SIZE)\n",
        "\n",
        "test_dataset3 = tf.data.Dataset.from_tensor_slices((C_test/100, X_t3))\n",
        "test_dataset3 = test_dataset3.batch(BATCH_SIZE)\n",
        "\n",
        "test_dataset4 = tf.data.Dataset.from_tensor_slices((C_test/100, X_t4))\n",
        "test_dataset4 = test_dataset4.batch(BATCH_SIZE)\n"
      ],
      "execution_count": null,
      "outputs": []
    },
    {
      "cell_type": "code",
      "metadata": {
        "colab": {
          "base_uri": "https://localhost:8080/"
        },
        "id": "0Nc87rs8MMVy",
        "outputId": "53c9c058-6ee9-427e-c8c7-7613677cbf62"
      },
      "source": [
        "# Saved Changes on Dec 1 \n",
        "# Things to clarified; Training multpile models on the same graph and session and loading in the same graph and session\n",
        "# Will this lead to wrong results\n",
        "# To be done\n",
        "# Interpret ouputs [[g1 g2 g3 g4]] 5000*4*4 and Get Xj and Apply Greedy Collision Rule{if Cij1 < Cij2: assign job i to person j1 } and Get the Inferred Final Ouput\n",
        "# Now get accuracy of the results with corresponding Hungarain Algo's Output\n",
        "# Saving Model will find its use when implemented on PC than on colab. As colab runs as if everything is on same script.\n",
        "\n",
        "#1\n",
        "n_model1 = tf.keras.models.load_model('saved_model/model1')\n",
        "\n",
        "# Check its architecture\n",
        "n_model1.summary()\n",
        "g1= n_model1.predict(test_dataset1)\n",
        "\n",
        "#2\n",
        "n_model2 = tf.keras.models.load_model('saved_model/model2')\n",
        "\n",
        "# Check its architecture\n",
        "n_model2.summary()\n",
        "g2= n_model2.predict(test_dataset2)\n",
        "\n",
        "#3\n",
        "n_model3 = tf.keras.models.load_model('saved_model/model3')\n",
        "\n",
        "# Check its architecture\n",
        "n_model3.summary()\n",
        "g3= n_model3.predict(test_dataset3)\n",
        "\n",
        "\n",
        "#4\n",
        "n_model4 = tf.keras.models.load_model('saved_model/model4')\n",
        "# Check its architecture\n",
        "n_model4.summary()\n",
        "g4 = n_model4.predict(test_dataset4)\n",
        "g41= n_model4.evaluate(test_dataset4)\n",
        "n_model1.evaluate(test_dataset1)\n",
        "n_model2.evaluate(test_dataset2)\n",
        "n_model3.evaluate(test_dataset3)\n",
        "\n",
        "print('Predict:{}'.format(g4[0]))\n",
        "print('Evaluate:{}'.format(g41[0]))\n",
        "print(g41)\n",
        "\n",
        "print(g1.shape)\n",
        "print(g2.shape)\n",
        "print(g3.shape)\n",
        "print(g1[0])\n",
        "print(g2)"
      ],
      "execution_count": null,
      "outputs": [
        {
          "output_type": "stream",
          "text": [
            "Model: \"sequential\"\n",
            "_________________________________________________________________\n",
            "Layer (type)                 Output Shape              Param #   \n",
            "=================================================================\n",
            "flatten (Flatten)            (None, 16)                0         \n",
            "_________________________________________________________________\n",
            "dense (Dense)                (None, 32)                544       \n",
            "_________________________________________________________________\n",
            "dense_1 (Dense)              (None, 64)                2112      \n",
            "_________________________________________________________________\n",
            "dense_2 (Dense)              (None, 256)               16640     \n",
            "_________________________________________________________________\n",
            "dense_3 (Dense)              (None, 4)                 1028      \n",
            "=================================================================\n",
            "Total params: 20,324\n",
            "Trainable params: 20,324\n",
            "Non-trainable params: 0\n",
            "_________________________________________________________________\n",
            "Model: \"sequential_1\"\n",
            "_________________________________________________________________\n",
            "Layer (type)                 Output Shape              Param #   \n",
            "=================================================================\n",
            "flatten_1 (Flatten)          (None, 16)                0         \n",
            "_________________________________________________________________\n",
            "dense_4 (Dense)              (None, 32)                544       \n",
            "_________________________________________________________________\n",
            "dense_5 (Dense)              (None, 64)                2112      \n",
            "_________________________________________________________________\n",
            "dense_6 (Dense)              (None, 256)               16640     \n",
            "_________________________________________________________________\n",
            "dense_7 (Dense)              (None, 4)                 1028      \n",
            "=================================================================\n",
            "Total params: 20,324\n",
            "Trainable params: 20,324\n",
            "Non-trainable params: 0\n",
            "_________________________________________________________________\n",
            "Model: \"sequential_2\"\n",
            "_________________________________________________________________\n",
            "Layer (type)                 Output Shape              Param #   \n",
            "=================================================================\n",
            "flatten_2 (Flatten)          (None, 16)                0         \n",
            "_________________________________________________________________\n",
            "dense_8 (Dense)              (None, 32)                544       \n",
            "_________________________________________________________________\n",
            "dense_9 (Dense)              (None, 64)                2112      \n",
            "_________________________________________________________________\n",
            "dense_10 (Dense)             (None, 256)               16640     \n",
            "_________________________________________________________________\n",
            "dense_11 (Dense)             (None, 4)                 1028      \n",
            "=================================================================\n",
            "Total params: 20,324\n",
            "Trainable params: 20,324\n",
            "Non-trainable params: 0\n",
            "_________________________________________________________________\n",
            "Model: \"sequential_3\"\n",
            "_________________________________________________________________\n",
            "Layer (type)                 Output Shape              Param #   \n",
            "=================================================================\n",
            "flatten_3 (Flatten)          (None, 16)                0         \n",
            "_________________________________________________________________\n",
            "dense_12 (Dense)             (None, 32)                544       \n",
            "_________________________________________________________________\n",
            "dense_13 (Dense)             (None, 64)                2112      \n",
            "_________________________________________________________________\n",
            "dense_14 (Dense)             (None, 256)               16640     \n",
            "_________________________________________________________________\n",
            "dense_15 (Dense)             (None, 4)                 1028      \n",
            "=================================================================\n",
            "Total params: 20,324\n",
            "Trainable params: 20,324\n",
            "Non-trainable params: 0\n",
            "_________________________________________________________________\n",
            "5/5 [==============================] - 0s 4ms/step - loss: 0.5536 - accuracy: 0.7878\n",
            "5/5 [==============================] - 0s 4ms/step - loss: 0.4371 - accuracy: 0.8548\n",
            "5/5 [==============================] - 0s 4ms/step - loss: 0.4722 - accuracy: 0.8284\n",
            "5/5 [==============================] - 0s 4ms/step - loss: 0.5706 - accuracy: 0.7782\n",
            "Predict:[1.1122501e-04 7.9829311e-03 2.8988707e-01 7.0201880e-01]\n",
            "Evaluate:0.5536288022994995\n",
            "[0.5536288022994995, 0.7878000140190125]\n",
            "(5000, 4)\n",
            "(5000, 4)\n",
            "(5000, 4)\n",
            "[2.05419639e-07 9.87354338e-01 1.26100285e-02 3.54407384e-05]\n",
            "[[9.72208560e-01 1.89956313e-03 6.69283210e-04 2.52225697e-02]\n",
            " [1.14351735e-01 8.71655822e-01 1.39824152e-02 1.00463440e-05]\n",
            " [8.78808796e-01 2.88131591e-02 1.94338653e-02 7.29440823e-02]\n",
            " ...\n",
            " [2.47876465e-01 7.47454833e-05 7.48966879e-04 7.51299798e-01]\n",
            " [8.63724291e-01 5.89734409e-03 1.14492886e-01 1.58854574e-02]\n",
            " [9.25152525e-02 1.79640844e-01 8.72140974e-02 6.40629828e-01]]\n"
          ],
          "name": "stdout"
        }
      ]
    },
    {
      "cell_type": "code",
      "metadata": {
        "colab": {
          "base_uri": "https://localhost:8080/"
        },
        "id": "660HcMl0fTR2",
        "outputId": "7643deb8-51f0-4f00-bd14-643e73be572b"
      },
      "source": [
        "n=4\r\n",
        "test = 5000\r\n",
        "X_cap = np.zeros((test,n,n),dtype=int)\r\n",
        "job = np.zeros((test,n),dtype=int)\r\n",
        "\r\n",
        "p= [0, 1, 2, 3] # Persons {0..j}\r\n",
        "\r\n",
        "count = np.zeros((test,1),dtype=int)\r\n",
        "\r\n",
        "for s in range(test):\r\n",
        "    job[s,p[0]] = np.argmax(g1[s])\r\n",
        "    job[s,p[1]] = np.argmax(g2[s])\r\n",
        "    job[s,p[2]] = np.argmax(g3[s])\r\n",
        "    job[s,p[3]] = np.argmax(g4[s])\r\n",
        "\r\n",
        "for s in range(test):\r\n",
        "  for i in range(n-1):\r\n",
        "    for j in range(i+1,n):\r\n",
        "      if (job[s,p[i]]==job[s,p[j]]):\r\n",
        "        count[s]+=1\r\n",
        "\r\n",
        "k=0\r\n",
        "sum1=0\r\n",
        "sum2=0\r\n",
        "sum3=0\r\n",
        "sum4=0\r\n",
        "sum5=0\r\n",
        "sum6=0\r\n",
        "\r\n",
        "for s in range(test):\r\n",
        "  if(count[s]==0):\r\n",
        "    k+=1\r\n",
        "  if(count[s]==1):\r\n",
        "    sum1+=1\r\n",
        "  if(count[s]==2):\r\n",
        "    sum2+=1\r\n",
        "  if(count[s]==3):\r\n",
        "    sum3+=1\r\n",
        "  if(count[s]==4):\r\n",
        "    sum4+=1\r\n",
        "  if(count[s]==5):\r\n",
        "    sum5+=1\r\n",
        "  if(count[s]==6):\r\n",
        "    sum6+=1\r\n",
        "\r\n",
        "print('Collsion Count--> 0: {}| 1: {} | 2: {} | 3: {} | 4: {} | 5: {} | 6: {}'.format(k,sum1,sum2,sum3,sum4,sum5,sum6))\r\n",
        "\r\n",
        "for s in range(test):\r\n",
        "  for i in range(n):\r\n",
        "    X_cap[s,job[s,p[i]],p[i]] = 1\r\n",
        "\r\n",
        "print('Before Greedy:\\n {}'.format(X_cap[0]))"
      ],
      "execution_count": null,
      "outputs": [
        {
          "output_type": "stream",
          "text": [
            "Collsion Count--> 0: 2058| 1: 2848 | 2: 87 | 3: 7 | 4: 0 | 5: 0 | 6: 0\n",
            "Before Greedy:\n",
            " [[0 1 1 0]\n",
            " [1 0 0 0]\n",
            " [0 0 0 0]\n",
            " [0 0 0 1]]\n"
          ],
          "name": "stdout"
        }
      ]
    },
    {
      "cell_type": "code",
      "metadata": {
        "colab": {
          "base_uri": "https://localhost:8080/"
        },
        "id": "YkFY5pw8fA5w",
        "outputId": "80a8e9f3-c6f9-4c7f-c3aa-774e156ef5e3"
      },
      "source": [
        "r = np.zeros((test,1),dtype=int)\r\n",
        "for s in range(test):\r\n",
        "  if count[s]==1:\r\n",
        "\r\n",
        "    for ind1 in range(n):\r\n",
        "      r_s = X_cap[s,ind1,:] == np.zeros((n,),dtype=int)\r\n",
        "      if (r_s.all()):\r\n",
        "        r[s]=ind1\r\n",
        "  else: \r\n",
        "    r[s] = -1\r\n",
        "\r\n",
        "print('Before:\\n {}'.format(X_cap[0:10]))\r\n",
        "# print('Rows----------')\r\n",
        "# print(r[0:10])"
      ],
      "execution_count": null,
      "outputs": [
        {
          "output_type": "stream",
          "text": [
            "Before:\n",
            " [[[0 1 1 0]\n",
            "  [1 0 0 0]\n",
            "  [0 0 0 0]\n",
            "  [0 0 0 1]]\n",
            "\n",
            " [[1 0 0 0]\n",
            "  [0 1 0 0]\n",
            "  [0 0 0 1]\n",
            "  [0 0 1 0]]\n",
            "\n",
            " [[0 1 0 0]\n",
            "  [0 0 0 1]\n",
            "  [0 0 1 0]\n",
            "  [1 0 0 0]]\n",
            "\n",
            " [[0 0 0 1]\n",
            "  [1 0 0 0]\n",
            "  [0 0 1 0]\n",
            "  [0 1 0 0]]\n",
            "\n",
            " [[1 0 0 0]\n",
            "  [0 1 0 0]\n",
            "  [0 0 1 0]\n",
            "  [0 0 0 1]]\n",
            "\n",
            " [[0 0 0 1]\n",
            "  [0 1 0 0]\n",
            "  [1 0 0 0]\n",
            "  [0 0 1 0]]\n",
            "\n",
            " [[0 0 1 0]\n",
            "  [0 1 0 1]\n",
            "  [0 0 0 0]\n",
            "  [1 0 0 0]]\n",
            "\n",
            " [[0 1 0 0]\n",
            "  [0 0 0 1]\n",
            "  [1 0 0 0]\n",
            "  [0 0 1 0]]\n",
            "\n",
            " [[0 1 0 0]\n",
            "  [1 0 0 0]\n",
            "  [0 0 1 1]\n",
            "  [0 0 0 0]]\n",
            "\n",
            " [[0 1 0 0]\n",
            "  [0 0 1 1]\n",
            "  [1 0 0 0]\n",
            "  [0 0 0 0]]]\n"
          ],
          "name": "stdout"
        }
      ]
    },
    {
      "cell_type": "code",
      "metadata": {
        "id": "kt5_pbEwyEWf",
        "colab": {
          "base_uri": "https://localhost:8080/"
        },
        "outputId": "e3a703d3-425a-426a-bff0-2efe9429ec7b"
      },
      "source": [
        "print(count[0:10])\n",
        "print('Zero row {}'.format(r[0]))\n",
        "print('Before Greedy:\\n {}'.format(X_cap[0]))\n",
        "for s in range(test):\n",
        "  if count[s]==1:\n",
        "    for i in range(n-1):\n",
        "      for j in range(i+1,n):\n",
        "        #Greedy Collison Rule  \n",
        "        if (job[s,p[i]]==job[s,p[j]]):\n",
        "            if (C_test[s,job[s,p[i]],p[i]] + C_test[s,r[s],p[j]] < C_test[s,job[s,p[j]],p[j]] + C_test[s,r[s],p[i]]):\n",
        "                X_cap[s,job[s,p[i]],p[i]] = 1\n",
        "                X_cap[s,job[s,p[j]],p[j]] = 0\n",
        "                X_cap[s,r[s],p[j]]        = 1\n",
        "                X_cap[s,r[s],p[i]]        = 0\n",
        "            else:\n",
        "                X_cap[s,job[s,p[j]],p[j]] = 1\n",
        "                X_cap[s,job[s,p[i]],p[i]] = 0\n",
        "                X_cap[s,r[s],p[i]]        = 1\n",
        "                X_cap[s,r[s],p[j]]        = 0\n",
        "\n",
        "print('After Greedy:\\n {}'.format(X_cap[0]))\n",
        "\n",
        "# Testing Accuracy \n",
        "# error = 0\n",
        "# for s in range(test):\n",
        "#   comparison = X_cap[s]  == X_test[s]\n",
        "#   ind = comparison.all()\n",
        "#   if not ind:\n",
        "#     error+=1\n",
        "err = np.zeros((n,1),dtype=int)\n",
        "# ind = np.zeros((test,1),dtype=bool)\n",
        "accuracy = np.ones((n,1),dtype=float)\n",
        "for s in range(test):\n",
        "  for i in range(n):\n",
        "    comparison = X_cap[s,:,i]  == X_test[s,:,i]\n",
        "    ind = comparison.all()\n",
        "    if not ind:\n",
        "      err[i]+=1\n",
        "\n",
        "for i in range(n):\n",
        "  accuracy[i] = (test-err[i])/test  \n",
        "  \n",
        "print('Error:\\n{}'.format(err))\n",
        "print('Accuracy:\\n{}'.format(accuracy))\n",
        "print('Accuracy Avg:{}'.format(sum(accuracy)/len(accuracy)))\n",
        "print('Jobs for each person:{}'.format(job[0]))\n",
        "print('Original Sol:\\n{}'.format(X_test[0]))\n",
        "print('Cost matrix 0th:\\n{}'.format(C_test[0]))\n"
      ],
      "execution_count": null,
      "outputs": [
        {
          "output_type": "stream",
          "text": [
            "[[1]\n",
            " [0]\n",
            " [0]\n",
            " [0]\n",
            " [0]\n",
            " [0]\n",
            " [1]\n",
            " [0]\n",
            " [1]\n",
            " [1]]\n",
            "Zero row [2]\n",
            "Before Greedy:\n",
            " [[0 1 1 0]\n",
            " [1 0 0 0]\n",
            " [0 0 0 0]\n",
            " [0 0 0 1]]\n",
            "After Greedy:\n",
            " [[0 1 0 0]\n",
            " [1 0 0 0]\n",
            " [0 0 1 0]\n",
            " [0 0 0 1]]\n",
            "Error:\n",
            "[[406]\n",
            " [438]\n",
            " [485]\n",
            " [465]]\n",
            "Accuracy:\n",
            "[[0.9188]\n",
            " [0.9124]\n",
            " [0.903 ]\n",
            " [0.907 ]]\n",
            "Accuracy Avg:[0.9103]\n",
            "Jobs for each person:[1 0 0 3]\n",
            "Original Sol:\n",
            "[[0 1 0 0]\n",
            " [1 0 0 0]\n",
            " [0 0 0 1]\n",
            " [0 0 1 0]]\n",
            "Cost matrix 0th:\n",
            "[[81  2 14 99]\n",
            " [ 4 48 74 58]\n",
            " [34 77 59 34]\n",
            " [97 59 70 50]]\n"
          ],
          "name": "stdout"
        }
      ]
    },
    {
      "cell_type": "markdown",
      "metadata": {
        "id": "EcZtc_i2552R"
      },
      "source": [
        "# Computing Time for Hungarian Algorithm"
      ]
    },
    {
      "cell_type": "markdown",
      "metadata": {
        "id": "_XypI9n3Dbwl"
      },
      "source": [
        "\n",
        "\n",
        "> First Approach Involving Average\n",
        "\n"
      ]
    },
    {
      "cell_type": "code",
      "metadata": {
        "id": "cBHT3rLg552R",
        "colab": {
          "base_uri": "https://localhost:8080/"
        },
        "outputId": "5df9b1bc-333a-4c8e-9e80-086418f90686"
      },
      "source": [
        "# Saved Changes on Dec 1 ; 9.43PM\n",
        "import timeit\n",
        "\n",
        "    \n",
        "setup_code = '''\n",
        "from scipy.optimize import linear_sum_assignment\n",
        "import numpy as np\n",
        "n    = 4      # No. of Jobs, People \n",
        "test = 5000   # No, of test samples\n",
        "C_test = np.random.randint(1,100, size=(test,n,n)) \n",
        "X_test = np.zeros((test,n,n),dtype=int)\n",
        "'''\n",
        "statement = \"\"\"\n",
        "for ii in range(test):\n",
        "    row_ind, col_ind = linear_sum_assignment(C_test[ii])\n",
        "    X_test[ii,row_ind,col_ind] = 1\n",
        "\"\"\"\n",
        "num = 100\n",
        "time = timeit.timeit(setup = setup_code, stmt = statement, number = num)\n",
        "avg = time/num\n",
        "print(\"Execution time for {} iterations is: {}\".format(num,time))\n",
        "print(\"Avg Time:{}\".format(avg))"
      ],
      "execution_count": null,
      "outputs": [
        {
          "output_type": "stream",
          "text": [
            "Execution time for 100 iterations is: 15.30944810600002\n",
            "Avg Time:0.1530944810600002\n"
          ],
          "name": "stdout"
        }
      ]
    },
    {
      "cell_type": "markdown",
      "metadata": {
        "id": "gl4BkuTrECNi"
      },
      "source": [
        "\n",
        "\n",
        "> Second One Using Subtraction of time between epoch\n",
        "\n"
      ]
    },
    {
      "cell_type": "code",
      "metadata": {
        "id": "Uu81MRvnBReU",
        "colab": {
          "base_uri": "https://localhost:8080/"
        },
        "outputId": "522f61da-9cf6-4cce-87aa-4621ee5a3716"
      },
      "source": [
        "import time\n",
        "\n",
        "# starting time\n",
        "start = time.time()\n",
        "\n",
        "from scipy.optimize import linear_sum_assignment\n",
        "import numpy as np\n",
        "n    = 4      # No. of Jobs, People \n",
        "test = 5000   # No, of test samples\n",
        "\n",
        "C_test = np.random.randint(1,100, size=(test,n,n)) \n",
        "X_test = np.zeros((test,n,n),dtype=int)\n",
        "for ii in range(test):\n",
        "    row_ind, col_ind = linear_sum_assignment(C_test[ii])\n",
        "    X_test[ii,row_ind,col_ind] = 1\n",
        "# program body ends\n",
        "\n",
        "# end time\n",
        "end = time.time()\n",
        "\n",
        "# total time taken\n",
        "print(f\"Runtime of the program is {end - start}\")"
      ],
      "execution_count": null,
      "outputs": [
        {
          "output_type": "stream",
          "text": [
            "Runtime of the program is 0.16564273834228516\n"
          ],
          "name": "stdout"
        }
      ]
    },
    {
      "cell_type": "markdown",
      "metadata": {
        "id": "sw2mw056GXDa"
      },
      "source": [
        "# Time taken for FNN"
      ]
    },
    {
      "cell_type": "markdown",
      "metadata": {
        "id": "B9_nHOnQkC45"
      },
      "source": [
        "1.  Model prediction (In Sequence) and Greedy Collision Rule"
      ]
    },
    {
      "cell_type": "code",
      "metadata": {
        "colab": {
          "base_uri": "https://localhost:8080/"
        },
        "id": "WK9HK6y5GVd5",
        "outputId": "262ec4c8-8e46-462e-e245-bfc441b66e76"
      },
      "source": [
        "import time\n",
        "# starting time\n",
        "start = time.time()\n",
        "X_cap = np.zeros((test,n,n),dtype=int)\n",
        "job = np.zeros((test,n),dtype=int)\n",
        "p= [0, 1, 2, 3] # Persons {0..j}\n",
        "count = np.zeros((test,1),dtype=int)\n",
        "for s in range(test):\n",
        "    job[s,p[0]] = np.argmax(g1[s])\n",
        "    job[s,p[1]] = np.argmax(g2[s])\n",
        "    job[s,p[2]] = np.argmax(g3[s])\n",
        "    job[s,p[3]] = np.argmax(g4[s])\n",
        "for s in range(test):\n",
        "  for i in range(n-1):\n",
        "    for j in range(i+1,n):\n",
        "      if (job[s,p[i]]==job[s,p[j]]):\n",
        "        count[s]+=1\n",
        "for s in range(test):\n",
        "  for i in range(n):\n",
        "    X_cap[s,job[s,p[i]],p[i]] = 1\n",
        "for s in range(test):\n",
        "  if count[s]==1:\n",
        "    for i in range(n-1):\n",
        "      for j in range(i+1,n):\n",
        "        #Greedy Collison Rule  \n",
        "        if (job[s,p[i]]==job[s,p[j]]):\n",
        "            if (C_test[s,job[s,p[i]],p[i]] + C_test[s,r[s],p[j]] < C_test[s,job[s,p[j]],p[j]] + C_test[s,r[s],p[i]]):\n",
        "                X_cap[s,job[s,p[i]],p[i]] = 1\n",
        "                X_cap[s,job[s,p[j]],p[j]] = 0\n",
        "                X_cap[s,r[s],p[j]]        = 1\n",
        "                X_cap[s,r[s],p[i]]        = 0\n",
        "            else:\n",
        "                X_cap[s,job[s,p[j]],p[j]] = 1\n",
        "                X_cap[s,job[s,p[i]],p[i]] = 0\n",
        "                X_cap[s,r[s],p[i]]        = 1\n",
        "                X_cap[s,r[s],p[j]]        = 0\n",
        "end = time.time()\n",
        "# total time taken\n",
        "print(f\"Runtime of the program is {end - start}\")"
      ],
      "execution_count": null,
      "outputs": [
        {
          "output_type": "stream",
          "text": [
            "Runtime of the program is 0.13799571990966797\n"
          ],
          "name": "stdout"
        }
      ]
    },
    {
      "cell_type": "code",
      "metadata": {
        "colab": {
          "base_uri": "https://localhost:8080/"
        },
        "id": "Ft7lzTyyTubf",
        "outputId": "cbb801fa-d8e9-42e4-aab2-e7334cc2c55b"
      },
      "source": [
        "import time\n",
        "# starting time\n",
        "start = time.time()\n",
        "g1= n_model1.predict(test_dataset1)\n",
        "end = time.time()\n",
        "# total time taken\n",
        "print(f\"Runtime of the program is {end - start}\")"
      ],
      "execution_count": null,
      "outputs": [
        {
          "output_type": "stream",
          "text": [
            "Runtime of the program is 0.023828983306884766\n"
          ],
          "name": "stdout"
        }
      ]
    }
  ]
}